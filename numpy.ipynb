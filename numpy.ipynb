{
 "cells": [
  {
   "cell_type": "code",
   "execution_count": 1,
   "id": "01826343",
   "metadata": {},
   "outputs": [
    {
     "name": "stdout",
     "output_type": "stream",
     "text": [
      "Original array: array('i', [1, 3, 5, 3, 7, 1, 9, 3])\n",
      "Convert the said array to an ordinary list with the same items:\n",
      "[1, 3, 5, 3, 7, 1, 9, 3]\n"
     ]
    }
   ],
   "source": [
    "from array import *\n",
    "array_num = array('i', [1, 3, 5, 3, 7, 1, 9, 3])\n",
    "print(\"Original array: \"+str(array_num))\n",
    "num_list = array_num.tolist()\n",
    "print(\"Convert the said array to an ordinary list with the same items:\")\n",
    "print(num_list)"
   ]
  },
  {
   "cell_type": "code",
   "execution_count": 2,
   "id": "5243b5d2",
   "metadata": {},
   "outputs": [
    {
     "name": "stdout",
     "output_type": "stream",
     "text": [
      "Original matrix:\n",
      "[[0 1 2]\n",
      " [3 4 5]]\n",
      "Condition number of the said matrix:\n",
      "4\n"
     ]
    }
   ],
   "source": [
    "import numpy as np\n",
    "m = np.arange(6).reshape(2,3)\n",
    "print(\"Original matrix:\")\n",
    "print(m)\n",
    "result =  np.trace(m)\n",
    "print(\"Condition number of the said matrix:\")\n",
    "print(result)"
   ]
  },
  {
   "cell_type": "code",
   "execution_count": 13,
   "id": "f10835fc",
   "metadata": {},
   "outputs": [
    {
     "name": "stdout",
     "output_type": "stream",
     "text": [
      "Original array: \n",
      "[[ 0 10 20]\n",
      " [20 30 40]]\n",
      "Values bigger than 10 = [20 20 30 40]\n",
      "Their indices are  (array([0, 1, 1, 1], dtype=int64), array([2, 0, 1, 2], dtype=int64))\n"
     ]
    }
   ],
   "source": [
    "import numpy as np\n",
    "x = np.array([[0, 10, 20], [20, 30, 40]])\n",
    "print(\"Original array: \")\n",
    "print(x)\n",
    "print(\"Values bigger than 10 =\", x[x>10])\n",
    "print(\"Their indices are \", np.nonzero(x > 10))\n"
   ]
  },
  {
   "cell_type": "code",
   "execution_count": 23,
   "id": "1840610c",
   "metadata": {},
   "outputs": [
    {
     "name": "stdout",
     "output_type": "stream",
     "text": [
      "[ 7  9 11 13 15 11 12]\n"
     ]
    }
   ],
   "source": [
    " arr1 = array([1, 2, 3, 4, 5 ])\n",
    "arr2 = array([6, 7, 8, 9, 10, 11, 12])\n",
    "arr3 = ([])\n",
    "\n",
    "if len(arr1) == len(arr2):  # Finding minimum length array\n",
    "    minLength = len(arr1)\n",
    "    pass\n",
    "elif len(arr1) > len(arr2):\n",
    "    minLength = len(arr2)\n",
    "    arr3 = arr1.copy()     # Copy max array into new array\n",
    "else:\n",
    "    minLength = len(arr1)\n",
    "    arr3 = arr2.copy()     # Copy max array into new array\n",
    "\n",
    "for i in range(minLength):\n",
    "    arr3[i] = arr1[i] + arr2[i]  # adding array and replacing in new array\n",
    "\n",
    "print(arr3)"
   ]
  },
  {
   "cell_type": "code",
   "execution_count": 15,
   "id": "6243dab0",
   "metadata": {},
   "outputs": [
    {
     "name": "stdout",
     "output_type": "stream",
     "text": [
      "Original matrix:\n",
      "\n",
      "[[0.40044696 0.11490408 0.65289395 0.06163587 0.33162013 0.66327413\n",
      "  0.71110792 0.15870555 0.75211184 0.13249927]\n",
      " [0.94967069 0.1463248  0.25936808 0.36440845 0.95514434 0.82169667\n",
      "  0.62212706 0.86887105 0.11874023 0.42895954]\n",
      " [0.79494377 0.93269056 0.59890178 0.53847922 0.18189166 0.87234814\n",
      "  0.98598878 0.55721761 0.26702485 0.26638582]\n",
      " [0.8022849  0.84110161 0.90260415 0.205358   0.95751924 0.09120004\n",
      "  0.40463502 0.15271687 0.94011221 0.91017322]\n",
      " [0.0585607  0.19015753 0.59485998 0.08033077 0.22061976 0.85380896\n",
      "  0.78476825 0.85051044 0.49607401 0.48370124]]\n",
      "\n",
      "Subtract the mean of each row of the said matrix:\n",
      "\n",
      "[[ 0.00252699 -0.28301589  0.25497398 -0.3362841  -0.06629984  0.26535416\n",
      "   0.31318796 -0.23921442  0.35419187 -0.2654207 ]\n",
      " [ 0.3961396  -0.40720629 -0.29416301 -0.18912264  0.40161325  0.26816558\n",
      "   0.06859597  0.31533996 -0.43479086 -0.12457155]\n",
      " [ 0.19535655  0.33310334 -0.00068544 -0.061108   -0.41769556  0.27276092\n",
      "   0.38640156 -0.04236961 -0.33256237 -0.3332014 ]\n",
      " [ 0.18151437  0.22033108  0.28183363 -0.41541253  0.33674871 -0.52957048\n",
      "  -0.21613551 -0.46805365  0.31934169  0.2894027 ]\n",
      " [-0.40277846 -0.27118164  0.13352082 -0.38100839 -0.2407194   0.3924698\n",
      "   0.32342909  0.38917128  0.03473485  0.02236207]]\n"
     ]
    }
   ],
   "source": [
    "import numpy as np\n",
    "print(\"Original matrix:\\n\")\n",
    "X = np.random.rand(5, 10)\n",
    "print(X)\n",
    "print(\"\\nSubtract the mean of each row of the said matrix:\\n\")\n",
    "Y = X - X.mean(axis=1, keepdims=True)\n",
    "print(Y)\n"
   ]
  },
  {
   "cell_type": "code",
   "execution_count": null,
   "id": "9d7616cc",
   "metadata": {},
   "outputs": [],
   "source": []
  },
  {
   "cell_type": "code",
   "execution_count": null,
   "id": "50038684",
   "metadata": {},
   "outputs": [],
   "source": []
  },
  {
   "cell_type": "code",
   "execution_count": null,
   "id": "cd42a23c",
   "metadata": {},
   "outputs": [],
   "source": []
  },
  {
   "cell_type": "code",
   "execution_count": null,
   "id": "5d6aa904",
   "metadata": {},
   "outputs": [],
   "source": []
  }
 ],
 "metadata": {
  "kernelspec": {
   "display_name": "Python 3",
   "language": "python",
   "name": "python3"
  },
  "language_info": {
   "codemirror_mode": {
    "name": "ipython",
    "version": 3
   },
   "file_extension": ".py",
   "mimetype": "text/x-python",
   "name": "python",
   "nbconvert_exporter": "python",
   "pygments_lexer": "ipython3",
   "version": "3.8.8"
  }
 },
 "nbformat": 4,
 "nbformat_minor": 5
}
